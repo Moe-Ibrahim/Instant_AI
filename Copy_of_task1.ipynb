{
  "nbformat": 4,
  "nbformat_minor": 0,
  "metadata": {
    "colab": {
      "provenance": []
    },
    "kernelspec": {
      "name": "python3",
      "display_name": "Python 3"
    },
    "language_info": {
      "name": "python"
    }
  },
  "cells": [
    {
      "cell_type": "code",
      "source": [
        "# Task 1\n",
        "base = float(input(\"Enter the base of the triangle: \"))\n",
        "height = float(input(\"Enter the height of the triangle: \"))\n",
        "area = 0.5 * base * height\n",
        "print(f\"The area of the triangle is: {area}\")"
      ],
      "metadata": {
        "colab": {
          "base_uri": "https://localhost:8080/"
        },
        "id": "BnyHzxygIPYC",
        "outputId": "452fed10-b97c-442c-a79f-a48431b7aaf6"
      },
      "execution_count": null,
      "outputs": [
        {
          "output_type": "stream",
          "name": "stdout",
          "text": [
            "Enter the base of the triangle: 5\n",
            "Enter the height of the triangle: 4\n",
            "The area of the triangle is: 10.0\n"
          ]
        }
      ]
    },
    {
      "cell_type": "code",
      "source": [
        "# Task 2\n",
        "var_1 = int(input(\"Enter the first variable: \"))\n",
        "var_2 = int(input(\"Enter the second variable: \"))\n",
        "print(f\"first variable = {var_1}, second variable = {var_2}\")\n",
        "\n",
        "# first way\n",
        "temp = var_1\n",
        "var_1 = var_2\n",
        "var_2 = temp\n",
        "print(f\"first variable = {var_1}, second variable = {var_2}\")\n",
        "\n",
        "# another way\n",
        "# var_1, var_2 = var_2, var_1\n",
        "# print(f\"first variable = {var_1}, second variable = {var_2}\")"
      ],
      "metadata": {
        "colab": {
          "base_uri": "https://localhost:8080/"
        },
        "id": "JbYaJcv0IJC7",
        "outputId": "02b9a296-1ac5-4061-9526-1790fd2a0627"
      },
      "execution_count": null,
      "outputs": [
        {
          "output_type": "stream",
          "name": "stdout",
          "text": [
            "Enter the first variable: 5\n",
            "Enter the second variable: 4\n",
            "first variable = 5, second variable = 4\n",
            "first variable = 4, second variable = 5\n"
          ]
        }
      ]
    },
    {
      "cell_type": "code",
      "source": [
        "# Task 3\n",
        "x = float(input(\"Enter the distance in kilometers: \"))\n",
        "y = x * 0.6214\n",
        "print(f\"The distance in miles is: {y}\")"
      ],
      "metadata": {
        "id": "-hO2ACQCX8xA",
        "colab": {
          "base_uri": "https://localhost:8080/"
        },
        "outputId": "1579e48e-7213-462a-caec-d78557fff65a"
      },
      "execution_count": null,
      "outputs": [
        {
          "output_type": "stream",
          "name": "stdout",
          "text": [
            "Enter the distance in kilometers: 1\n",
            "The distance in miles is: 0.6214\n"
          ]
        }
      ]
    }
  ]
}