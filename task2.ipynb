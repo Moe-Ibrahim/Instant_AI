{
  "nbformat": 4,
  "nbformat_minor": 0,
  "metadata": {
    "colab": {
      "provenance": []
    },
    "kernelspec": {
      "name": "python3",
      "display_name": "Python 3"
    },
    "language_info": {
      "name": "python"
    }
  },
  "cells": [
    {
      "cell_type": "markdown",
      "source": [
        "\n",
        "# Enter a number from user and print its absolute value."
      ],
      "metadata": {
        "id": "MnWAiH2o0zSa"
      }
    },
    {
      "cell_type": "code",
      "source": [
        "num = int(input(\"Enter a number to get its absolute value: \"))\n",
        "if num < 0:\n",
        "    print(f\"The absolute value of {num} is {-num}\")\n",
        "else:\n",
        "    print(f\"The absolute value of {num} is {num}\")"
      ],
      "metadata": {
        "id": "l3oLMLbk02Pj",
        "outputId": "fcff0231-0204-4470-8847-956767bcebe4",
        "colab": {
          "base_uri": "https://localhost:8080/"
        }
      },
      "execution_count": 20,
      "outputs": [
        {
          "output_type": "stream",
          "name": "stdout",
          "text": [
            "Enter a number to get its absolute value: -10\n",
            "The absolute value of -10 is 10\n"
          ]
        }
      ]
    },
    {
      "cell_type": "markdown",
      "source": [
        "# Enter a year from user and check if it is leap year or not."
      ],
      "metadata": {
        "id": "pOnjNwNx03Tr"
      }
    },
    {
      "cell_type": "code",
      "source": [
        "year = int(input(\"Enter a year: \"))\n",
        "\n",
        "if year % 4 == 0:\n",
        "  print(f\"{year} is a leap year\")\n",
        "else:\n",
        "  print(f\"{year} is not a leap year\")"
      ],
      "metadata": {
        "id": "4PEtUTm51H6x",
        "outputId": "96e67ff7-fea7-469a-8e5b-9dec17278ae2",
        "colab": {
          "base_uri": "https://localhost:8080/"
        }
      },
      "execution_count": null,
      "outputs": [
        {
          "output_type": "stream",
          "name": "stdout",
          "text": [
            "Enter a year: 2026\n",
            "2026 is not a leap year\n"
          ]
        }
      ]
    },
    {
      "cell_type": "markdown",
      "source": [
        "# Enter the age of 3 person and print oldest and yougest among them."
      ],
      "metadata": {
        "id": "sn-NADUn1VGn"
      }
    },
    {
      "cell_type": "code",
      "source": [
        "person1 = int(input(\"Enter the first person age: \"))\n",
        "person2 = int(input(\"Enter the second person age: \"))\n",
        "person3 = int(input(\"Enter the third person age: \"))\n",
        "\n",
        "# condition to check if they all are at the same age.\n",
        "if person1 == person2 == person3:\n",
        "  print(f\"The three persons are the same age {person1} years old.\")\n",
        "\n",
        "# condition to check if two of them are equal in age.\n",
        "elif person1 == person2:\n",
        "  print(f\"first person age is {person1} and second person age is {person2} and third person age is {person3}\")\n",
        "  if person1 > person3:\n",
        "    print(f\"The oldest person is the first and second by age {person1} years old\")\n",
        "    print(f\"The youngest person is the third by age {person3} years old\")\n",
        "  else:\n",
        "    print(f\"The oldest person is the third by age {person3} years old\")\n",
        "    print(f\"The youngest person is the first and second by age {person1} years old\")\n",
        "\n",
        "elif person1 == person3:\n",
        "  print(f\"first person age is {person1} and second person age is {person2} and third person age is {person3}\")\n",
        "  if person1 > person2:\n",
        "    print(f\"The oldest person is the first and third by age {person1} years old\")\n",
        "    print(f\"The youngest person is the second by age {person2} years old\")\n",
        "  else:\n",
        "    print(f\"The oldest person is the second by age {person2} years old\")\n",
        "    print(f\"The youngest person is the first and third by age {person1} years old\")\n",
        "\n",
        "elif person2 == person3:\n",
        "  print(f\"first person age is {person1} and second person age is {person2} and third person age is {person3}\")\n",
        "  if person2 > person1:\n",
        "    print(f\"The oldest person is the second and third by age {person2} years old\")\n",
        "    print(f\"The youngest person is the first by age {person1} years old\")\n",
        "  else:\n",
        "    print(f\"The oldest person is the first by age {person1} years old\")\n",
        "    print(f\"The youngest person is the second and third by age {person2} years old\")\n",
        "\n",
        "# conditions if the 3 are different in age\n",
        "else:\n",
        "  if person1 > person2 and person1 > person3:\n",
        "    print(f\"first person age is {person1} and second person age is {person2} and third person age is {person3}\")\n",
        "    print(f\"The oldest person is the first by age {person1} years old\")\n",
        "    if person2 > person3:\n",
        "      print(f\"The youngest person is the third by age {person3} years old\")\n",
        "    else:\n",
        "      print(f\"The youngest person is the second by age {person2} years old\")\n",
        "\n",
        "  elif person2 > person1 and person2 > person3:\n",
        "    print(f\"first person age is {person1} and second person age is {person2} and third person age is {person3}\")\n",
        "    print(f\"The oldest person is the second by age {person2} years old\")\n",
        "    if person1 > person3:\n",
        "      print(f\"The youngest person is the third by age {person3} years old\")\n",
        "    else:\n",
        "      print(f\"The youngest person is the first by age {person1} years old\")\n",
        "\n",
        "  elif person3 > person1 and person3 > person2:\n",
        "    print(f\"first person age is {person1} and second person age is {person2} and third person age is {person3}\")\n",
        "    print(f\"The oldest person is the third by age {person3} years old\")\n",
        "    if person1 > person2:\n",
        "      print(f\"The youngest person is the second by age {person2} years old\")\n",
        "    else:\n",
        "      print(f\"The youngest person is the first by age {person1} years old\")"
      ],
      "metadata": {
        "colab": {
          "base_uri": "https://localhost:8080/"
        },
        "id": "cIzIk5c9VX2P",
        "outputId": "0aa9ebd8-1df7-42ba-bc78-669e42e16dd7"
      },
      "execution_count": 19,
      "outputs": [
        {
          "output_type": "stream",
          "name": "stdout",
          "text": [
            "Enter the first person age: 9\n",
            "Enter the second person age: 18\n",
            "Enter the third person age: 2\n",
            "first person age is 9 and second person age is 18 and third person age is 2\n",
            "The oldest person is the second by age 18 years old\n",
            "The youngest person is the third by age 2 years old\n"
          ]
        }
      ]
    },
    {
      "cell_type": "markdown",
      "source": [
        "# Write a program that asks the user to enter a series of numbers. The program should ask for numbers until the user enters a negative number. Once the user enters a negative number, the program should stop and print the sum of all the positive numbers entered\n"
      ],
      "metadata": {
        "id": "XFRRNGVj1dEw"
      }
    },
    {
      "cell_type": "code",
      "source": [
        "sum = 0\n",
        "while True:\n",
        "  numbers_list = []\n",
        "  num = int(input(\"Enter a number and to stop enter any negative number: \"))\n",
        "  if num < 0:\n",
        "    break\n",
        "  else:\n",
        "    numbers_list.append(num)\n",
        "    for i in numbers_list:\n",
        "      sum += i\n",
        "print(f\"The sum of the positive numbers is {sum}\")"
      ],
      "metadata": {
        "id": "ijp9SzHu2A3p",
        "outputId": "d02ba83c-f9a9-434c-b58c-6d033d845fcc",
        "colab": {
          "base_uri": "https://localhost:8080/"
        }
      },
      "execution_count": 39,
      "outputs": [
        {
          "output_type": "stream",
          "name": "stdout",
          "text": [
            "Enter a number and to stop enter any negative number: 5\n",
            "Enter a number and to stop enter any negative number: 9\n",
            "Enter a number and to stop enter any negative number: 1\n",
            "Enter a number and to stop enter any negative number: 10\n",
            "Enter a number and to stop enter any negative number: 15\n",
            "Enter a number and to stop enter any negative number: -10\n",
            "The sum of the positive numbers is 40\n"
          ]
        }
      ]
    },
    {
      "cell_type": "markdown",
      "source": [
        "# Write a program that asks the user to enter their name and age. The program should check if the user's age is greater than or equal to 18. If it is, the program should print a message saying they are eligible to vote. Otherwise, the program should print a message saying they are not eligible to vote due to being underage."
      ],
      "metadata": {
        "id": "oODCHUj62DxA"
      }
    },
    {
      "cell_type": "code",
      "source": [
        "name = input(\"Enter your name: \")\n",
        "age = int(input(\"Enter your age: \"))\n",
        "\n",
        "if age >= 18:\n",
        "  print(f\"Hi, {name} you are eligible to vote.\")\n",
        "else:\n",
        "  print(f\"Sorry {name} you aren't eligible to vote due to being underage.\")"
      ],
      "metadata": {
        "id": "Svls1cLA2JVA",
        "colab": {
          "base_uri": "https://localhost:8080/"
        },
        "outputId": "83c8a6e8-5622-469b-f9ed-9d5ee6f9eb6a"
      },
      "execution_count": 48,
      "outputs": [
        {
          "output_type": "stream",
          "name": "stdout",
          "text": [
            "Enter your name: moe\n",
            "Enter your age: 125\n",
            "Hi, moe you are eligible to vote.\n"
          ]
        }
      ]
    },
    {
      "cell_type": "markdown",
      "source": [
        "# Write a Python Program to Find the Factorial of a Number"
      ],
      "metadata": {
        "id": "2y5o5SqL3nvL"
      }
    },
    {
      "cell_type": "code",
      "source": [
        "num = int(input(\"Enter a number to find its factorial: \"))\n",
        "factorial = 1\n",
        "for i in range(1, num+1):\n",
        "  factorial *= i\n",
        "print(f\"The factorial of {num} is {factorial}\")"
      ],
      "metadata": {
        "id": "Q_v3ns1D3tgy",
        "colab": {
          "base_uri": "https://localhost:8080/"
        },
        "outputId": "8590936a-9f07-4e3c-b6ff-5f8c24cca24b"
      },
      "execution_count": 50,
      "outputs": [
        {
          "output_type": "stream",
          "name": "stdout",
          "text": [
            "Enter a number to find its factorial: 10\n",
            "The factorial of 10 is 3628800\n"
          ]
        }
      ]
    }
  ]
}