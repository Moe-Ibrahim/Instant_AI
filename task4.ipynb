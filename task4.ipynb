{
  "cells": [
    {
      "cell_type": "markdown",
      "id": "759d04ba",
      "metadata": {
        "id": "759d04ba"
      },
      "source": [
        "1-Write a Python program to calculate the length of a string using 2 ways"
      ]
    },
    {
      "cell_type": "code",
      "execution_count": null,
      "id": "e434c950",
      "metadata": {
        "id": "e434c950",
        "colab": {
          "base_uri": "https://localhost:8080/"
        },
        "outputId": "7c179d74-4ebe-402a-9cd8-c2248d146280"
      },
      "outputs": [
        {
          "output_type": "stream",
          "name": "stdout",
          "text": [
            "Enter a word to be calculated: moe\n",
            "3\n"
          ]
        }
      ],
      "source": [
        "string = input(\"Enter a word to be calculated: \")\n",
        "\n",
        "sum = 0\n",
        "\n",
        "for i in string[0:]:\n",
        "    sum += 1\n",
        "print(sum)\n"
      ]
    },
    {
      "cell_type": "code",
      "execution_count": null,
      "id": "7a2dfa32",
      "metadata": {
        "id": "7a2dfa32"
      },
      "outputs": [],
      "source": [
        "string = input(\"Enter a word to be calculated: \")\n",
        "\n",
        "print(len(string))"
      ]
    },
    {
      "cell_type": "markdown",
      "id": "d7cc9da7",
      "metadata": {
        "id": "d7cc9da7"
      },
      "source": [
        "2-Write a Python program to get a string made of the first 2 and last 2 characters of a given string. If the string length is less than 2, return the empty string instead (\"##Sample String : 'w3resource'\n",
        "Expected Result : 'w3ce'\n",
        "##Sample String : 'w3'\n",
        "Expected Result : 'w3w3'\n",
        "##Sample String : ' w'\n",
        "Expected Result : Empty String)"
      ]
    },
    {
      "cell_type": "code",
      "execution_count": null,
      "id": "dafa9dd8",
      "metadata": {
        "id": "dafa9dd8",
        "colab": {
          "base_uri": "https://localhost:8080/"
        },
        "outputId": "e2c00df3-f467-41d9-a81f-9c4129d4bd7f"
      },
      "outputs": [
        {
          "output_type": "stream",
          "name": "stdout",
          "text": [
            "Enter a string: m\n",
            "Empty String\n"
          ]
        }
      ],
      "source": [
        "string = input(\"Enter a string: \")\n",
        "\n",
        "if len(string) > 2:\n",
        "    print(f\"{string[0:2]}{string[-2:]}\")\n",
        "elif len(string) == 2:\n",
        "    print(f\"{string[0:]}{string[0:]}\")\n",
        "else:\n",
        "    print(\"Empty String\")"
      ]
    },
    {
      "cell_type": "markdown",
      "id": "1534f956",
      "metadata": {
        "id": "1534f956"
      },
      "source": [
        "3-Write a Python program to add 'ing' at the end of a given string (length should be at least 3). If the given string already ends with 'ing', add 'ly' instead. If the string length of the given string is less than 3, leave it unchanged. (Sample String : 'abc'\n",
        "Expected Result : 'abcing')"
      ]
    },
    {
      "cell_type": "code",
      "execution_count": null,
      "id": "7ff8cec4",
      "metadata": {
        "id": "7ff8cec4",
        "colab": {
          "base_uri": "https://localhost:8080/"
        },
        "outputId": "131c2570-ba5c-46ae-df84-57fb9f74cf08"
      },
      "outputs": [
        {
          "output_type": "stream",
          "name": "stdout",
          "text": [
            "Enter a string: moe\n",
            "moeing\n"
          ]
        }
      ],
      "source": [
        "string = input(\"Enter a string: \")\n",
        "\n",
        "if len(string) >= 3:\n",
        "    if string[-3:] == \"ing\":\n",
        "        print(string[0:-3] + \"ly\")\n",
        "    else:\n",
        "        print(string + \"ing\")\n",
        "else:\n",
        "    print(string)"
      ]
    },
    {
      "cell_type": "markdown",
      "id": "1c0a6627",
      "metadata": {
        "id": "1c0a6627"
      },
      "source": [
        "4-Write a Python function that takes a list of words and return the longest word and the length of the longest one\n",
        "(Longest word: Exercises\n",
        "Length of the longest word: 9)"
      ]
    },
    {
      "cell_type": "code",
      "execution_count": null,
      "id": "397341d9",
      "metadata": {
        "id": "397341d9"
      },
      "outputs": [],
      "source": [
        "list_of_words = input(\"Enter a list of words: \").split()\n",
        "\n",
        "\n",
        "def longest_word(word):\n",
        "    longest = list_of_words[0]\n",
        "\n",
        "    for i in list_of_words[0:]:\n",
        "        if len(longest) < len(i):\n",
        "            longest = i\n",
        "        else:\n",
        "            continue\n",
        "    return longest\n",
        "\n",
        "longest_in_list = longest_word(list_of_words)\n",
        "print(f\"Longest word: {longest_in_list}\")\n",
        "print(f\"Length of the longest word: {len(longest_in_list)}\")"
      ]
    },
    {
      "cell_type": "markdown",
      "id": "53a03a6a",
      "metadata": {
        "id": "53a03a6a"
      },
      "source": [
        "5-Write a Python program to change a given string to a newly string where the first and last chars have been exchanged using 2 ways (Sample String:abca  Expected Result:ebce)"
      ]
    },
    {
      "cell_type": "code",
      "execution_count": null,
      "id": "fd327d2a",
      "metadata": {
        "id": "fd327d2a"
      },
      "outputs": [],
      "source": [
        "string = input(\"Enter a String: \")\n",
        "\n",
        "first_letter = string[0]\n",
        "last_letter = string[-1]\n",
        "\n",
        "if first_letter == last_letter:\n",
        "    new_string = \"e\" + string[1:-1] + \"e\"\n",
        "    print(new_string)\n",
        "else:\n",
        "    print(\"string\")\n"
      ]
    },
    {
      "cell_type": "code",
      "execution_count": null,
      "id": "285788b4",
      "metadata": {
        "id": "285788b4"
      },
      "outputs": [],
      "source": [
        "string = input(\"Enter a String: \")\n",
        "\n",
        "string_list = list(string)\n",
        "\n",
        "if string_list[0] == string_list[-1]:\n",
        "    string_list[0] = \"e\"\n",
        "    string_list[-1] = \"e\"\n",
        "    new_string = \"\".join(string_list)\n",
        "\n",
        "print(f\"Expected Result: {new_string}\")"
      ]
    },
    {
      "cell_type": "markdown",
      "id": "25f89808",
      "metadata": {
        "id": "25f89808"
      },
      "source": [
        "6-Write a Python program to remove characters that have odd index values in a given string (Sample String:abca Expected Result:ac)"
      ]
    },
    {
      "cell_type": "code",
      "execution_count": null,
      "id": "05959bd7",
      "metadata": {
        "id": "05959bd7"
      },
      "outputs": [],
      "source": [
        "string = input(\"Enter a string: \")\n",
        "print(string[::2])"
      ]
    },
    {
      "cell_type": "markdown",
      "id": "eb16e898",
      "metadata": {
        "id": "eb16e898"
      },
      "source": [
        "7-Write a Python program to count the occurrences of each word in a given sentence (Sample String:amr and ahmed are frindes but amr is the tallest Expected Result:2)"
      ]
    },
    {
      "cell_type": "code",
      "execution_count": null,
      "id": "01ce6cf5",
      "metadata": {
        "id": "01ce6cf5",
        "colab": {
          "base_uri": "https://localhost:8080/"
        },
        "outputId": "46291f22-25a9-413a-de51-9e7ccf42fbdc"
      },
      "outputs": [
        {
          "output_type": "stream",
          "name": "stdout",
          "text": [
            "Enter a sentence: mohamed and ali are friends but ali is taller and ali is smarter\n",
            "The highest word count is: 3\n"
          ]
        }
      ],
      "source": [
        "words = input(\"Enter a sentence: \").lower().split()\n",
        "unique_words = list(dict.fromkeys(words))\n",
        "word_counts = [words.count(word) for word in unique_words]\n",
        "max_count = max(word_counts)\n",
        "\n",
        "print(f\"The highest word count is: {max_count}\")"
      ]
    },
    {
      "cell_type": "markdown",
      "id": "4e8125f1",
      "metadata": {
        "id": "4e8125f1"
      },
      "source": [
        "8-Write a Python script that takes input from the user and displays that input back in upper and lower cases"
      ]
    },
    {
      "cell_type": "code",
      "execution_count": null,
      "id": "66c8f778",
      "metadata": {
        "id": "66c8f778"
      },
      "outputs": [],
      "source": [
        "string = input(\"Enter a string: \")\n",
        "\n",
        "print(string.upper())\n",
        "print(string.lower())"
      ]
    },
    {
      "cell_type": "markdown",
      "id": "fcd68aa1",
      "metadata": {
        "id": "fcd68aa1"
      },
      "source": [
        "9-Write a Python function to reverse a string if its length is a multiple of 4"
      ]
    },
    {
      "cell_type": "code",
      "execution_count": null,
      "id": "0671a931",
      "metadata": {
        "id": "0671a931"
      },
      "outputs": [],
      "source": [
        "def reverse(s):\n",
        "    if len(s) % 4 == 0:\n",
        "        return s[::-1]\n",
        "    else:\n",
        "        return s\n",
        "string = input(\"Enter a string: \")\n",
        "result = reverse(string)\n",
        "print(f\"Result: {result}\")"
      ]
    },
    {
      "cell_type": "markdown",
      "id": "b577c68d",
      "metadata": {
        "id": "b577c68d"
      },
      "source": [
        "10- Write a Python program to remove a newline in Python"
      ]
    },
    {
      "cell_type": "code",
      "execution_count": null,
      "id": "e0c6525a",
      "metadata": {
        "id": "e0c6525a"
      },
      "outputs": [],
      "source": [
        "lines = []\n",
        "while True:\n",
        "    line = input(\"Enter word to make sentence(type 'END' to finish): \")\n",
        "    if line == \"END\":\n",
        "        break\n",
        "    lines.append(line)\n",
        "\n",
        "text_without_newlines = \" \".join(lines)\n",
        "\n",
        "print(\"\\nText without newlines:\")\n",
        "print(text_without_newlines)"
      ]
    },
    {
      "cell_type": "markdown",
      "id": "80db5ae0",
      "metadata": {
        "id": "80db5ae0"
      },
      "source": [
        "11-Write a Python program to check whether a string starts with specified characters"
      ]
    },
    {
      "cell_type": "code",
      "execution_count": null,
      "id": "0cc4e03e",
      "metadata": {
        "id": "0cc4e03e"
      },
      "outputs": [],
      "source": [
        "text = input(\"Enter the string: \")\n",
        "prefix = input(\"Enter the starting characters to check: \")\n",
        "\n",
        "if text[: len(prefix)] == prefix:\n",
        "    print(\"Yes, the string starts with the specified characters.\")\n",
        "else:\n",
        "    print(\"No, the string does not start with the specified characters.\")\n"
      ]
    },
    {
      "cell_type": "markdown",
      "id": "593a68db",
      "metadata": {
        "id": "593a68db"
      },
      "source": [
        "12- Write a Python program to add prefix text to all of the lines in a string"
      ]
    },
    {
      "cell_type": "code",
      "execution_count": null,
      "id": "d2e46ada",
      "metadata": {
        "id": "d2e46ada"
      },
      "outputs": [],
      "source": [
        "print(\"Enter multiple lines of text (type 'END' to finish):\")\n",
        "lines = []\n",
        "while True:\n",
        "    line = input()\n",
        "    if line == \"END\":\n",
        "        break\n",
        "    else:\n",
        "        lines.append(line)\n",
        "\n",
        "prefix = input(\"Enter the prefix to add: \")\n",
        "\n",
        "for i in lines:\n",
        "    print(prefix + i)"
      ]
    },
    {
      "cell_type": "markdown",
      "id": "86fa1543",
      "metadata": {
        "id": "86fa1543"
      },
      "source": [
        "13-Write a Python program to print the following numbers up to 2 decimal places"
      ]
    },
    {
      "cell_type": "code",
      "execution_count": null,
      "id": "cd4a9d89",
      "metadata": {
        "id": "cd4a9d89"
      },
      "outputs": [],
      "source": [
        "empty_list = []\n",
        "while True:\n",
        "    number = float(input(\"Enter any decimal number (enter -1 to end): \"))\n",
        "\n",
        "    if number == -1:\n",
        "        break\n",
        "    else:\n",
        "        empty_list.append(number)\n",
        "\n",
        "for i in empty_list:\n",
        "    print(f\"{i} = {i:.2f}\")"
      ]
    },
    {
      "cell_type": "markdown",
      "id": "452c0ab0",
      "metadata": {
        "id": "452c0ab0"
      },
      "source": [
        "14-Write a Python program to print the following numbers up to 2 decimal places with a sign"
      ]
    },
    {
      "cell_type": "code",
      "execution_count": null,
      "id": "73e82479",
      "metadata": {
        "id": "73e82479"
      },
      "outputs": [],
      "source": [
        "empty_list = []\n",
        "while True:\n",
        "    number = float(input(\"Enter any decimal number (enter -1 to end): \"))\n",
        "\n",
        "    if number == -1:\n",
        "        break\n",
        "    else:\n",
        "        empty_list.append(number)\n",
        "\n",
        "for i in empty_list:\n",
        "    print(f\"{i} = {i:+.2f}\")"
      ]
    },
    {
      "cell_type": "markdown",
      "id": "32b1811a",
      "metadata": {
        "id": "32b1811a"
      },
      "source": [
        "15-Write a Python program to display a number with a comma separator"
      ]
    },
    {
      "cell_type": "code",
      "execution_count": null,
      "id": "f30fc0b6",
      "metadata": {
        "id": "f30fc0b6"
      },
      "outputs": [],
      "source": [
        "number = int(input(\"Enter a number: \"))\n",
        "\n",
        "print(f\"Formatted number: {number:,}\")"
      ]
    },
    {
      "cell_type": "markdown",
      "id": "0477f487",
      "metadata": {
        "id": "0477f487"
      },
      "source": [
        "16-Write a Python program to reverse a string using 2 ways"
      ]
    },
    {
      "cell_type": "code",
      "source": [
        "string = input(\"Please enter a string: \")\n",
        "print(string[::-1])"
      ],
      "metadata": {
        "id": "21YODUJ8ma14"
      },
      "id": "21YODUJ8ma14",
      "execution_count": null,
      "outputs": []
    },
    {
      "cell_type": "code",
      "execution_count": null,
      "id": "aa8beec8",
      "metadata": {
        "id": "aa8beec8"
      },
      "outputs": [],
      "source": [
        "string = input(\"enter a string: \")\n",
        "\n",
        "for i in string[::-1]:\n",
        "    print(i, end = \"\")"
      ]
    },
    {
      "cell_type": "markdown",
      "id": "5afc3166",
      "metadata": {
        "id": "5afc3166"
      },
      "source": [
        " 17-Write a Python program to count repeated characters in a string (hint:use dictionary)"
      ]
    },
    {
      "cell_type": "code",
      "execution_count": null,
      "id": "515a469c",
      "metadata": {
        "id": "515a469c"
      },
      "outputs": [],
      "source": [
        "words = input(\"Enter a sentence: \").lower().split()\n",
        "\n",
        "unique_words = list(dict.fromkeys(words))\n",
        "\n",
        "for word in unique_words:\n",
        "    words_count = words.count(word)\n",
        "    if words_count > 1:\n",
        "        print(f\"{word} appears {words.count(word)} times\")\n",
        "    else:\n",
        "        continue"
      ]
    },
    {
      "cell_type": "markdown",
      "id": "ae14e4e5",
      "metadata": {
        "id": "ae14e4e5"
      },
      "source": [
        "18-Write a Python program to find the first non-repeating character in a given string"
      ]
    },
    {
      "cell_type": "code",
      "execution_count": null,
      "id": "d73778e5",
      "metadata": {
        "id": "d73778e5"
      },
      "outputs": [],
      "source": [
        "words = input(\"Enter a sentence: \").lower().split()\n",
        "\n",
        "unique_words = list(dict.fromkeys(words))\n",
        "\n",
        "for word in unique_words:\n",
        "    words_count = words.count(word)\n",
        "    if words_count > 1:\n",
        "        continue\n",
        "    else:\n",
        "        if words_count == 1:\n",
        "            print(f\"The first non repeating word is {word}\")\n",
        "            break"
      ]
    },
    {
      "cell_type": "markdown",
      "id": "3adf5669",
      "metadata": {
        "id": "3adf5669"
      },
      "source": [
        "19-Write a Python program to remove spaces from a given string"
      ]
    },
    {
      "cell_type": "code",
      "execution_count": null,
      "id": "b4f22602",
      "metadata": {
        "id": "b4f22602"
      },
      "outputs": [],
      "source": [
        "sentence = input(\"Enter a sentence: \")\n",
        "\n",
        "print(sentence.replace(\" \", \"\"))"
      ]
    },
    {
      "cell_type": "markdown",
      "id": "734de60c",
      "metadata": {
        "id": "734de60c"
      },
      "source": [
        "20-Write a Python program to count the number of non-empty substrings of a given string"
      ]
    },
    {
      "cell_type": "code",
      "execution_count": null,
      "id": "ef3f2274",
      "metadata": {
        "id": "ef3f2274",
        "collapsed": true
      },
      "outputs": [],
      "source": [
        "s = input(\"Enter a string: \")\n",
        "n = len(s)\n",
        "count = n * (n + 1) // 2\n",
        "print(\"Number of non-empty substrings:\", count)"
      ]
    },
    {
      "cell_type": "markdown",
      "id": "509998e2",
      "metadata": {
        "id": "509998e2"
      },
      "source": [
        "21-write a Python program to swap first and last element of any list."
      ]
    },
    {
      "cell_type": "code",
      "execution_count": 5,
      "id": "68692d7f",
      "metadata": {
        "id": "68692d7f",
        "colab": {
          "base_uri": "https://localhost:8080/"
        },
        "collapsed": true,
        "outputId": "fb546048-f14c-4565-f35d-ec0b1db13d4a"
      },
      "outputs": [
        {
          "output_type": "stream",
          "name": "stdout",
          "text": [
            "Enter elements of the list separated by spaces: 1 5 6 4\n",
            "Original list: ['1', '5', '6', '4']\n",
            "List after swapping: ['4', '5', '6', '1']\n"
          ]
        }
      ],
      "source": [
        "\n",
        "my_list = input(\"Enter elements of the list separated by spaces: \").split()\n",
        "\n",
        "print(\"Original list:\", my_list)\n",
        "\n",
        "# Swap first and last elements if list has at least 2 elements\n",
        "if len(my_list) >= 2:\n",
        "    my_list[0], my_list[-1] = my_list[-1], my_list[0]\n",
        "print(\"List after swapping:\", my_list)"
      ]
    },
    {
      "cell_type": "markdown",
      "source": [
        "22- Given a list in Python and provided the positions of the elements, write a program to swap the two elements in the list. (Input : List = [23, 65, 19, 90], pos1 = 1, pos2 = 3\n",
        "Output : [19, 65, 23, 90])"
      ],
      "metadata": {
        "id": "4ebSjNYl1BYu"
      },
      "id": "4ebSjNYl1BYu"
    },
    {
      "cell_type": "code",
      "execution_count": null,
      "id": "225d8c6d",
      "metadata": {
        "id": "225d8c6d"
      },
      "outputs": [],
      "source": [
        "my_list = input(\"Enter elements of the list separated by spaces: \").split()\n",
        "\n",
        "pos1 = int(input(\"Enter first position: \"))\n",
        "pos2 = int(input(\"Enter second position: \"))\n",
        "\n",
        "print(\"Original list:\", my_list)\n",
        "\n",
        "\n",
        "if 1 <= pos1 <= len(my_list) and 1 <= pos2 <= len(my_list):\n",
        "    my_list[pos1-1], my_list[pos2-1] = my_list[pos2-1], my_list[pos1-1]\n",
        "    print(\"List after swapping:\", my_list)\n",
        "else:\n",
        "    print(\"Invalid positions! Positions should be between 1 and\", len(my_list))"
      ]
    },
    {
      "cell_type": "markdown",
      "id": "66fc6682",
      "metadata": {
        "id": "66fc6682"
      },
      "source": [
        "23- search for the all ways to know the length of the list"
      ]
    },
    {
      "cell_type": "code",
      "source": [
        "my_list = [23, 65, 19, 90, 12]\n",
        "print(\"List:\", my_list)\n",
        "\n",
        "# 1. Using len() function\n",
        "length1 = len(my_list)\n",
        "print(\"1. Using len():\", length1)\n",
        "\n",
        "# 2. Using a loop with counter\n",
        "count = 0\n",
        "for _ in my_list:\n",
        "    count += 1\n",
        "length2 = count\n",
        "print(\"2. Using loop with counter:\", length2)\n",
        "\n",
        "# 3. Using __len__() method\n",
        "length3 = my_list.__len__()\n",
        "print(\"3. Using __len__():\", length3)\n",
        "\n",
        "# 4. Using sum() with generator expression\n",
        "length4 = sum(1 for _ in my_list)\n",
        "print(\"4. Using sum() with generator:\", length4)\n",
        "\n",
        "# 5. Using enumerate() to count elements\n",
        "length5 = max((i + 1 for i, _ in enumerate(my_list)), default=0)\n",
        "print(\"5. Using enumerate():\", length5)\n",
        "\n",
        "# 6. Using list comprehension (indirect)\n",
        "length6 = len([x for x in my_list])\n",
        "print(\"6. Using list comprehension:\", length6)"
      ],
      "metadata": {
        "id": "PvgWGkVy2_Ss"
      },
      "id": "PvgWGkVy2_Ss",
      "execution_count": null,
      "outputs": []
    },
    {
      "cell_type": "markdown",
      "source": [
        "24-write a Python code to find the Maximum number of list of numbers."
      ],
      "metadata": {
        "id": "wfcd_QT43_3i"
      },
      "id": "wfcd_QT43_3i"
    },
    {
      "cell_type": "code",
      "execution_count": null,
      "id": "63ff8b43",
      "metadata": {
        "id": "63ff8b43"
      },
      "outputs": [],
      "source": [
        "numbers_input = input(\"Enter a list of numbers separated by spaces: \")\n",
        "\n",
        "numbers = list(map(int, numbers_input.split()))\n",
        "\n",
        "maximum_number = max(numbers)\n",
        "\n",
        "print(\"The maximum number is:\", maximum_number)"
      ]
    },
    {
      "cell_type": "markdown",
      "source": [
        "25-write a Python code to find the Minimum number of list of numbers."
      ],
      "metadata": {
        "id": "MLaiBriv5zya"
      },
      "id": "MLaiBriv5zya"
    },
    {
      "cell_type": "code",
      "execution_count": 18,
      "id": "21f8cbd6",
      "metadata": {
        "id": "21f8cbd6",
        "colab": {
          "base_uri": "https://localhost:8080/"
        },
        "outputId": "1d1108b9-bbd1-4fe4-e8dc-2ec28ad3fd94"
      },
      "outputs": [
        {
          "output_type": "stream",
          "name": "stdout",
          "text": [
            "Enter a list of numbers separated by spaces: 10 20 30\n",
            "The minimum number is: 10\n"
          ]
        }
      ],
      "source": [
        "numbers_input = input(\"Enter a list of numbers separated by spaces: \")\n",
        "\n",
        "numbers = list(map(int, numbers_input.split()))\n",
        "\n",
        "minimum_number = min(numbers)\n",
        "\n",
        "print(\"The minimum number is:\", minimum_number)"
      ]
    },
    {
      "cell_type": "markdown",
      "id": "96822d96",
      "metadata": {
        "id": "96822d96"
      },
      "source": [
        "26-search for if an elem is existing in list"
      ]
    },
    {
      "cell_type": "code",
      "execution_count": null,
      "id": "51ca5c9a",
      "metadata": {
        "id": "51ca5c9a"
      },
      "outputs": [],
      "source": [
        "elements = input(\"Enter a list of elements separated by spaces: \").split()\n",
        "\n",
        "search_element = input(\"Enter the element you want to search for: \")\n",
        "\n",
        "if search_element in elements:\n",
        "    print(\"The element exists in the list!\")\n",
        "else:\n",
        "    print(\"The element does not exist in the list.\")"
      ]
    },
    {
      "cell_type": "markdown",
      "id": "d9557da7",
      "metadata": {
        "id": "d9557da7"
      },
      "source": [
        "27- clear python list using different ways"
      ]
    },
    {
      "cell_type": "code",
      "execution_count": null,
      "id": "b69858a3",
      "metadata": {
        "id": "b69858a3"
      },
      "outputs": [],
      "source": [
        "my_list = [1, 2, 3, 4, 5]\n",
        "\n",
        "# 1. Using clear() method\n",
        "my_list.clear()\n",
        "print(\"After clear() method:\", my_list)\n",
        "\n",
        "# Re-create the list\n",
        "my_list = [1, 2, 3, 4, 5]\n",
        "\n",
        "# 2. Using slicing\n",
        "my_list[:] = []\n",
        "print(\"After slicing:\", my_list)\n",
        "\n",
        "# Re-create the list\n",
        "my_list = [1, 2, 3, 4, 5]\n",
        "\n",
        "# 3. Using del keyword\n",
        "del my_list[:]\n",
        "print(\"After del keyword:\", my_list)\n",
        "\n",
        "# Re-create the list\n",
        "my_list = [1, 2, 3, 4, 5]\n",
        "\n",
        "# 4. Reassigning to an empty list\n",
        "my_list = []\n",
        "print(\"After reassigning to empty list:\", my_list)"
      ]
    },
    {
      "cell_type": "markdown",
      "id": "52160e88",
      "metadata": {
        "id": "52160e88"
      },
      "source": [
        "28-remove duplicated elements from a list"
      ]
    },
    {
      "cell_type": "code",
      "execution_count": null,
      "id": "5e362228",
      "metadata": {
        "id": "5e362228"
      },
      "outputs": [],
      "source": [
        "elements_input = input(\"Enter a list of elements separated by spaces: \")\n",
        "\n",
        "elements = elements_input.split()\n",
        "\n",
        "unique_elements = list(set(elements))\n",
        "\n",
        "print(\"List after removing duplicates:\", unique_elements)\n"
      ]
    },
    {
      "cell_type": "markdown",
      "id": "282337f7",
      "metadata": {
        "id": "282337f7"
      },
      "source": [
        "29-Given list values and keys list, convert these values to key value pairs in form of list of dictionaries. (Input : test_list = [“Gfg”, 3, “is”, 8], key_list = [“name”, “id”]\n",
        "Output : [{‘name’: ‘Gfg’, ‘id’: 3}, {‘name’: ‘is’, ‘id’: 8}])"
      ]
    },
    {
      "cell_type": "code",
      "execution_count": null,
      "id": "4d4e2d28",
      "metadata": {
        "id": "4d4e2d28"
      },
      "outputs": [],
      "source": [
        "values_input = input(\"Enter the list of values separated by spaces: \")\n",
        "test_list = values_input.split()\n",
        "\n",
        "keys_input = input(\"Enter the list of keys separated by spaces: \")\n",
        "key_list = keys_input.split()\n",
        "\n",
        "result = []\n",
        "for i in range(0, len(test_list), len(key_list)):\n",
        "    temp = {}\n",
        "    for j in range(len(key_list)):\n",
        "        if i + j < len(test_list):\n",
        "            temp[key_list[j]] = test_list[i + j]\n",
        "    result.append(temp)\n",
        "\n",
        "print(\"The resulting list of dictionaries is:\", result)"
      ]
    },
    {
      "cell_type": "markdown",
      "id": "c26b6e9f",
      "metadata": {
        "id": "c26b6e9f"
      },
      "source": [
        "30-write a python program to count unique values inside a list using different ways"
      ]
    },
    {
      "cell_type": "code",
      "execution_count": null,
      "id": "72132667",
      "metadata": {
        "id": "72132667"
      },
      "outputs": [],
      "source": [
        "# Sample list\n",
        "my_list = [1, 2, 2, 3, 4, 4, 4, 5]\n",
        "\n",
        "# 1. Using set() and len() to count unique values\n",
        "unique_count_set = len(set(my_list))\n",
        "print(\"Count using set():\", unique_count_set)\n",
        "\n",
        "# 2. Using a dictionary to count unique values\n",
        "unique_count_dict = len(dict.fromkeys(my_list))\n",
        "print(\"Count using dictionary:\", unique_count_dict)\n",
        "\n",
        "# 3. Using a loop and a temporary list to count unique values\n",
        "unique_count_loop = 0\n",
        "unique_values = []\n",
        "for item in my_list:\n",
        "    if item not in unique_values:\n",
        "        unique_values.append(item)\n",
        "        unique_count_loop += 1\n",
        "print(\"Count using loop:\", unique_count_loop)\n",
        "\n",
        "# 4. Using collections.Counter to count unique values\n",
        "from collections import Counter\n",
        "unique_count_counter = len(Counter(my_list))\n",
        "print(\"Count using Counter:\", unique_count_counter)"
      ]
    },
    {
      "cell_type": "markdown",
      "id": "fed6677c",
      "metadata": {
        "id": "fed6677c"
      },
      "source": [
        "31-write a python program Extract all elements with Frequency greater than K (Input : test_list = [4, 6, 4, 3, 3, 4, 3, 4, 3, 8], K = 3\n",
        "Output : [4, 3] )"
      ]
    },
    {
      "cell_type": "code",
      "execution_count": 25,
      "id": "d81f3f9d",
      "metadata": {
        "id": "d81f3f9d",
        "colab": {
          "base_uri": "https://localhost:8080/"
        },
        "outputId": "d76f1730-94cf-4b3f-8662-4c2afc29b125"
      },
      "outputs": [
        {
          "output_type": "stream",
          "name": "stdout",
          "text": [
            "Enter a list of elements separated by spaces: 2 3 4 5 23 3 2 3 2\n",
            "Enter the value of K: 2\n",
            "Elements with frequency greater than 2 : [2, 3]\n"
          ]
        }
      ],
      "source": [
        "# Take input from the user for the list and K value\n",
        "test_list_input = input(\"Enter a list of elements separated by spaces: \")\n",
        "test_list = list(map(int, test_list_input.split()))\n",
        "\n",
        "K = int(input(\"Enter the value of K: \"))\n",
        "\n",
        "# Create a dictionary to store the frequency of each element\n",
        "frequency = {}\n",
        "\n",
        "# Count the frequency of each element\n",
        "for element in test_list:\n",
        "    if element in frequency:\n",
        "        frequency[element] += 1\n",
        "    else:\n",
        "        frequency[element] = 1\n",
        "\n",
        "# Extract elements with frequency greater than K\n",
        "result = [key for key, value in frequency.items() if value > K]\n",
        "\n",
        "print(\"Elements with frequency greater than\", K, \":\", result)"
      ]
    },
    {
      "cell_type": "markdown",
      "id": "caca5224",
      "metadata": {
        "id": "caca5224"
      },
      "source": [
        "32-write a python program to find the Strongest Neighbour (Input: 1 2 2 3 4 5\n",
        "Output: 2 2 3 4 5)"
      ]
    },
    {
      "cell_type": "code",
      "execution_count": 26,
      "id": "39fbd9b2",
      "metadata": {
        "id": "39fbd9b2",
        "colab": {
          "base_uri": "https://localhost:8080/"
        },
        "outputId": "2e1b2c2c-660e-45b1-c91a-26860c4e7d5f"
      },
      "outputs": [
        {
          "output_type": "stream",
          "name": "stdout",
          "text": [
            "Strongest Neighbors: [2, 2, 3, 4, 5, 5]\n"
          ]
        }
      ],
      "source": [
        "numbers = [1, 2, 2, 3, 4, 5]\n",
        "\n",
        "strongest_neighbors = []\n",
        "\n",
        "for i in range(len(numbers) - 1):\n",
        "    strongest_neighbors.append(max(numbers[i], numbers[i+1]))\n",
        "\n",
        "strongest_neighbors.append(numbers[-1])\n",
        "\n",
        "print(\"Strongest Neighbors:\", strongest_neighbors)\n"
      ]
    },
    {
      "cell_type": "markdown",
      "id": "a9fa8baf",
      "metadata": {
        "id": "a9fa8baf"
      },
      "source": [
        "33-write a Python Program to print all Possible Combinations from the three Digits (Input: [1, 2, 3]\n",
        "Output:\n",
        "1 2 3 ##\n",
        "1 3 2 ##\n",
        "2 1 3 ##\n",
        "2 3 1 ##\n",
        "3 1 2 ##\n",
        "3 2 1)"
      ]
    },
    {
      "cell_type": "code",
      "execution_count": null,
      "id": "8c520a76",
      "metadata": {
        "id": "8c520a76"
      },
      "outputs": [],
      "source": [
        "numbers = [1, 2, 3]\n",
        "\n",
        "for i in range(len(numbers)):\n",
        "    for j in range(len(numbers)):\n",
        "        if j != i:\n",
        "            for k in range(len(numbers)):\n",
        "                if k != i and k != j:\n",
        "                    print(numbers[i], numbers[j], numbers[k])"
      ]
    },
    {
      "cell_type": "markdown",
      "id": "5288bb89",
      "metadata": {
        "id": "5288bb89"
      },
      "source": [
        "34-write a Python program to find all the Combinations in the list with the given condition (Input: test_list = [1,2,3]\n",
        "Output:\n",
        " [1], [1, 2], [1, 2, 3], [1, 3]\n",
        " [2], [2, 3], [3])"
      ]
    },
    {
      "cell_type": "code",
      "execution_count": null,
      "id": "59b89646",
      "metadata": {
        "id": "59b89646"
      },
      "outputs": [],
      "source": [
        "test_list = [1, 2, 3]\n",
        "\n",
        "combinations = []\n",
        "\n",
        "for i in range(len(test_list)):\n",
        "    for j in range(i + 1, len(test_list) + 1):\n",
        "        combinations.append(test_list[i:j])\n",
        "\n",
        "print(combinations)"
      ]
    },
    {
      "cell_type": "markdown",
      "id": "39973705",
      "metadata": {
        "id": "39973705"
      },
      "source": [
        "35-write a Python program to get all unique combinations of two Lists (List_1 = [\"a\",\"b\"]\n",
        "List_2 = [1,2]\n",
        "Unique_combination = [[('a',1),('b',2)],[('a',2),('b',1)]] )"
      ]
    },
    {
      "cell_type": "code",
      "execution_count": null,
      "id": "8c4ba22b",
      "metadata": {
        "id": "8c4ba22b"
      },
      "outputs": [],
      "source": [
        "List_1 = [\"a\", \"b\"]\n",
        "List_2 = [1, 2]\n",
        "\n",
        "unique_combinations = []\n",
        "\n",
        "for i in List_1:\n",
        "    for j in List_2:\n",
        "        combination1 = [(i, j), (List_1[1 - List_1.index(i)], List_2[1 - List_2.index(j)])]\n",
        "        combination2 = [(i, j), (j, i)]\n",
        "\n",
        "        if combination2 not in unique_combinations:\n",
        "            unique_combinations.append(combination2)\n",
        "\n",
        "print(unique_combinations)"
      ]
    },
    {
      "cell_type": "markdown",
      "id": "25199af5",
      "metadata": {
        "id": "25199af5"
      },
      "source": [
        "36-Remove all the occurrences of an element from a list in Python (Input : 1 1 2 3 4 5 1 2 1\n",
        "\n",
        "Output : 2 3 4 5 2)"
      ]
    },
    {
      "cell_type": "code",
      "execution_count": 35,
      "id": "6dc4c2ba",
      "metadata": {
        "id": "6dc4c2ba",
        "colab": {
          "base_uri": "https://localhost:8080/"
        },
        "outputId": "3f3cbdbf-efe7-4c93-f1c1-a3bdc75b1b73"
      },
      "outputs": [
        {
          "output_type": "stream",
          "name": "stdout",
          "text": [
            "Enter the list of elements (space-separated): 1 2 3 4 5 2 1 1 1 1 1 \n",
            "Enter the element to remove: 1\n",
            "Output List: [2, 3, 4, 5, 2]\n"
          ]
        }
      ],
      "source": [
        "input_list = list(map(int, input(\"Enter the list of elements (space-separated): \").split()))\n",
        "element_to_remove = int(input(\"Enter the element to remove: \"))\n",
        "\n",
        "output_list = [x for x in input_list if x != element_to_remove]\n",
        "\n",
        "print(\"Output List:\", output_list)"
      ]
    },
    {
      "cell_type": "markdown",
      "id": "bf1a3c93",
      "metadata": {
        "id": "bf1a3c93"
      },
      "source": [
        "37-write a python program to Replace index elements with elements in Other List (The original list 1 is : [‘Gfg’, ‘is’, ‘best’] The original list 2 is : [0, 1, 2, 1, 0, 0, 0, 2, 1, 1, 2, 0] The lists after index elements replacements is : [‘Gfg’, ‘is’, ‘best’, ‘is’, ‘Gfg’, ‘Gfg’, ‘Gfg’, ‘best’, ‘is’, ‘is’, ‘best’, ‘Gfg’])"
      ]
    },
    {
      "cell_type": "code",
      "execution_count": 36,
      "id": "fdd66a71",
      "metadata": {
        "id": "fdd66a71",
        "colab": {
          "base_uri": "https://localhost:8080/"
        },
        "outputId": "fc4294b5-a3d6-4c6a-e951-b055ceeab402"
      },
      "outputs": [
        {
          "output_type": "stream",
          "name": "stdout",
          "text": [
            "The lists after index elements replacements is: ['Gfg', 'is', 'best', 'is', 'Gfg', 'Gfg', 'Gfg', 'best', 'is', 'is', 'best', 'Gfg']\n"
          ]
        }
      ],
      "source": [
        "list1 = ['Gfg', 'is', 'best']\n",
        "list2 = [0, 1, 2, 1, 0, 0, 0, 2, 1, 1, 2, 0]\n",
        "\n",
        "result = [list1[i] for i in list2]\n",
        "\n",
        "print(\"The lists after index elements replacements is:\", result)"
      ]
    },
    {
      "cell_type": "markdown",
      "id": "af0f56e8",
      "metadata": {
        "id": "af0f56e8"
      },
      "source": [
        "38- write python program to Retain records with N occurrences of K(Input : test_list = [(4, 5, 5, 4), (5, 4, 3)], K = 5, N = 2\n",
        "Output : [(4, 5, 5, 4)]\n",
        "Input : test_list = [(4, 5, 5, 4), (5, 4, 3)], K = 5, N = 3\n",
        "Output : [] )"
      ]
    },
    {
      "cell_type": "code",
      "execution_count": 37,
      "id": "67b06671",
      "metadata": {
        "id": "67b06671",
        "colab": {
          "base_uri": "https://localhost:8080/"
        },
        "outputId": "3807a053-e4bf-40d1-bb89-9afe5beec7f2"
      },
      "outputs": [
        {
          "output_type": "stream",
          "name": "stdout",
          "text": [
            "Output: [(4, 5, 5, 4)]\n",
            "Output: []\n"
          ]
        }
      ],
      "source": [
        "test_list = [(4, 5, 5, 4), (5, 4, 3)]\n",
        "K = 5\n",
        "N = 2\n",
        "\n",
        "result = [tup for tup in test_list if tup.count(K) == N]\n",
        "\n",
        "print(\"Output:\", result)\n",
        "\n",
        "test_list = [(4, 5, 5, 4), (5, 4, 3)]\n",
        "K = 5\n",
        "N = 3\n",
        "\n",
        "result = [tup for tup in test_list if tup.count(K) == N]\n",
        "\n",
        "print(\"Output:\", result)"
      ]
    },
    {
      "cell_type": "markdown",
      "id": "de76f183",
      "metadata": {
        "id": "de76f183"
      },
      "source": [
        "39-write a Python Program to Sort the list according to the column using lambda\n",
        "array = [[1, 3, 3], [2, 1, 2], [3, 2, 1]]\n",
        "Output :\n",
        "Sorted array specific to column 0, [[1, 3, 3], [2, 1, 2], [3, 2, 1]]\n",
        "Sorted array specific to column 1, [[2, 1, 2], [3, 2, 1], [1, 3, 3]]\n",
        "Sorted array specific to column 2, [[3, 2, 1], [2, 1, 2], [1, 3, 3]]"
      ]
    },
    {
      "cell_type": "code",
      "execution_count": null,
      "id": "dc883308",
      "metadata": {
        "id": "dc883308"
      },
      "outputs": [],
      "source": [
        "array = [[1, 3, 3], [2, 1, 2], [3, 2, 1]]\n",
        "\n",
        "# Sort by column 0\n",
        "sorted_column_0 = sorted(array, key=lambda x: x[0])\n",
        "print(\"Sorted array specific to column 0,\", sorted_column_0)\n",
        "\n",
        "# Sort by column 1\n",
        "sorted_column_1 = sorted(array, key=lambda x: x[1])\n",
        "print(\"Sorted array specific to column 1,\", sorted_column_1)\n",
        "\n",
        "# Sort by column 2\n",
        "sorted_column_2 = sorted(array, key=lambda x: x[2])\n",
        "print(\"Sorted array specific to column 2,\", sorted_column_2)"
      ]
    },
    {
      "cell_type": "markdown",
      "source": [
        "40- write a program to Sort Python Dictionaries by Key or Value\n",
        "Input:\n",
        "{'ravi': 10, 'rajnish': 9, 'sanjeev': 15, 'yash': 2, 'suraj': 32}\n",
        "\n",
        "Output:\n",
        "{'rajnish': 9, 'ravi': 10, 'sanjeev': 15, 'suraj': 32, 'yash': 2}"
      ],
      "metadata": {
        "id": "6xsFQAkHBzAy"
      },
      "id": "6xsFQAkHBzAy"
    },
    {
      "cell_type": "code",
      "execution_count": null,
      "id": "a96db4a0",
      "metadata": {
        "id": "a96db4a0"
      },
      "outputs": [],
      "source": [
        "input_dict = {'ravi': 10, 'rajnish': 9, 'sanjeev': 15, 'yash': 2, 'suraj': 32}\n",
        "\n",
        "sorted_dict_by_key = dict(sorted(input_dict.items()))\n",
        "\n",
        "print(\"Sorted dictionary by key:\", sorted_dict_by_key)"
      ]
    },
    {
      "cell_type": "markdown",
      "id": "ec63c23a",
      "metadata": {
        "id": "ec63c23a"
      },
      "source": [
        "41-write python program to Remove keys with Values Greater than K ( Including mixed values )\n",
        "nput : test_dict = {‘Gfg’ : 3, ‘is’ : 7, ‘best’ : 10, ‘for’ : 6, ‘geeks’ : ‘CS’},\n",
        "K = 7\n",
        "Output : {‘Gfg’ : 3, ‘for’ : 6, ‘geeks’ : ‘CS’}"
      ]
    },
    {
      "cell_type": "code",
      "execution_count": null,
      "id": "e39c3a40",
      "metadata": {
        "id": "e39c3a40"
      },
      "outputs": [],
      "source": [
        "test_dict = {'Gfg': 3, 'is': 7, 'best': 10, 'for': 6, 'geeks': 'CS'}\n",
        "K = 7\n",
        "\n",
        "result = {key: value for key, value in test_dict.items() if isinstance(value, int) and value <= K or not isinstance(value, int)}\n",
        "\n",
        "print(\"Output:\", result)"
      ]
    },
    {
      "cell_type": "markdown",
      "id": "f143f0fe",
      "metadata": {
        "id": "f143f0fe"
      },
      "source": [
        "42-Write a Python program to concatenate the following dictionaries to create a new one\n",
        "\n",
        "Sample Dictionary :\n",
        "dic1={1:10, 2:20}\n",
        "dic2={3:30, 4:40}\n",
        "dic3={5:50,6:60}\n",
        "Expected Result : {1: 10, 2: 20, 3: 30, 4: 40, 5: 50, 6: 60}"
      ]
    },
    {
      "cell_type": "code",
      "execution_count": null,
      "id": "74ffdfea",
      "metadata": {
        "id": "74ffdfea"
      },
      "outputs": [],
      "source": [
        "dic1 = {1: 10, 2: 20}\n",
        "dic2 = {3: 30, 4: 40}\n",
        "dic3 = {5: 50, 6: 60}\n",
        "\n",
        "result = dic1.copy()\n",
        "result.update(dic2)\n",
        "result.update(dic3)\n",
        "\n",
        "print(\"Expected Result:\", result)"
      ]
    },
    {
      "cell_type": "markdown",
      "id": "fb04c93c",
      "metadata": {
        "id": "fb04c93c"
      },
      "source": [
        "43-Write a Python program to iterate over dictionaries using for loops"
      ]
    },
    {
      "cell_type": "code",
      "execution_count": null,
      "id": "6aebc470",
      "metadata": {
        "id": "6aebc470"
      },
      "outputs": [],
      "source": [
        "sample_dict = {'a': 1, 'b': 2, 'c': 3, 'd': 4}\n",
        "\n",
        "print(\"Iterating over keys:\")\n",
        "for key in sample_dict:\n",
        "    print(key)\n",
        "\n",
        "print(\"\\nIterating over values:\")\n",
        "for value in sample_dict.values():\n",
        "    print(value)\n",
        "\n",
        "print(\"\\nIterating over key-value pairs:\")\n",
        "for key, value in sample_dict.items():\n",
        "    print(f\"{key}: {value}\")"
      ]
    },
    {
      "cell_type": "markdown",
      "id": "5f491a9d",
      "metadata": {
        "id": "5f491a9d"
      },
      "source": [
        "44- Write a Python script to merge two Python dictionaries"
      ]
    },
    {
      "cell_type": "code",
      "execution_count": null,
      "id": "b8a14028",
      "metadata": {
        "id": "b8a14028"
      },
      "outputs": [],
      "source": [
        "dict1 = {'a': 1, 'b': 2}\n",
        "dict2 = {'c': 3, 'd': 4}\n",
        "\n",
        "dict1.update(dict2)\n",
        "\n",
        "print(\"Merged dictionary:\", dict1)"
      ]
    },
    {
      "cell_type": "markdown",
      "id": "216fc72d",
      "metadata": {
        "id": "216fc72d"
      },
      "source": [
        "45-Write a Python program to get the maximum and minimum values of a dictionary values"
      ]
    },
    {
      "cell_type": "code",
      "execution_count": 46,
      "id": "d6883f5f",
      "metadata": {
        "id": "d6883f5f",
        "colab": {
          "base_uri": "https://localhost:8080/"
        },
        "collapsed": true,
        "outputId": "baa753c5-1ed4-41ba-b72f-aa04ea458a6d"
      },
      "outputs": [
        {
          "output_type": "stream",
          "name": "stdout",
          "text": [
            "Maximum value: 20\n",
            "Minimum value: 5\n"
          ]
        }
      ],
      "source": [
        "sample_dict = {'a': 10, 'b': 20, 'c': 5, 'd': 15}\n",
        "\n",
        "max_value = max(sample_dict.values())\n",
        "min_value = min(sample_dict.values())\n",
        "\n",
        "print(\"Maximum value:\", max_value)\n",
        "print(\"Minimum value:\", min_value)"
      ]
    },
    {
      "cell_type": "markdown",
      "id": "b6a53011",
      "metadata": {
        "id": "b6a53011"
      },
      "source": [
        "46- Write a Python program to drop empty items from a given dictionary.\n",
        "Original Dictionary:\n",
        "{'c1': 'Red', 'c2': 'Green', 'c3': None}\n",
        "New Dictionary after dropping empty items:\n",
        "{'c1': 'Red', 'c2': 'Green'}"
      ]
    },
    {
      "cell_type": "code",
      "execution_count": 47,
      "id": "b5c6fecf",
      "metadata": {
        "id": "b5c6fecf",
        "colab": {
          "base_uri": "https://localhost:8080/"
        },
        "outputId": "e2e680a1-cc40-42d6-ded9-0f18f80e0531"
      },
      "outputs": [
        {
          "output_type": "stream",
          "name": "stdout",
          "text": [
            "New Dictionary after dropping empty items: {'c1': 'Red', 'c2': 'Green'}\n"
          ]
        }
      ],
      "source": [
        "original_dict = {'c1': 'Red', 'c2': 'Green', 'c3': None}\n",
        "\n",
        "new_dict = {key: value for key, value in original_dict.items() if value is not None}\n",
        "\n",
        "print(\"New Dictionary after dropping empty items:\", new_dict)"
      ]
    },
    {
      "cell_type": "markdown",
      "id": "46d718c7",
      "metadata": {
        "id": "46d718c7"
      },
      "source": [
        "47-Write a Python program to create a tuple of numbers and print one item"
      ]
    },
    {
      "cell_type": "code",
      "execution_count": null,
      "id": "13216ff5",
      "metadata": {
        "id": "13216ff5"
      },
      "outputs": [],
      "source": [
        "user_input = input(\"Enter numbers separated by space: \")\n",
        "\n",
        "numbers_tuple = tuple(map(int, user_input.split()))\n",
        "\n",
        "index = int(input(f\"Enter the index (0 to {len(numbers_tuple)-1}) to get the item: \"))\n",
        "\n",
        "if 0 <= index < len(numbers_tuple):\n",
        "    print(f\"The item at index {index} is: {numbers_tuple[index]}\")\n",
        "else:\n",
        "    print(\"Invalid index!\")\n"
      ]
    },
    {
      "cell_type": "markdown",
      "id": "2be5b56b",
      "metadata": {
        "id": "2be5b56b"
      },
      "source": [
        "48-Write a Python program to unpack a tuple into several variables"
      ]
    },
    {
      "cell_type": "code",
      "execution_count": 50,
      "id": "595f44be",
      "metadata": {
        "id": "595f44be",
        "colab": {
          "base_uri": "https://localhost:8080/"
        },
        "outputId": "22681b21-37d6-408f-fb51-60133a9b3c36"
      },
      "outputs": [
        {
          "output_type": "stream",
          "name": "stdout",
          "text": [
            "Unpacked values:\n",
            "a = 10\n",
            "b = 20\n",
            "c = 30\n",
            "d = 40\n",
            "e = 50\n"
          ]
        }
      ],
      "source": [
        "my_tuple = (10, 20, 30, 40, 50)\n",
        "\n",
        "a, b, c, d, e = my_tuple\n",
        "\n",
        "print(\"Unpacked values:\")\n",
        "print(\"a =\", a)\n",
        "print(\"b =\", b)\n",
        "print(\"c =\", c)\n",
        "print(\"d =\", d)\n",
        "print(\"e =\", e)\n"
      ]
    },
    {
      "cell_type": "markdown",
      "id": "392388a7",
      "metadata": {
        "id": "392388a7"
      },
      "source": [
        "49-Write a Python program to add an item to a tuple"
      ]
    },
    {
      "cell_type": "code",
      "execution_count": 51,
      "id": "54cc092e",
      "metadata": {
        "id": "54cc092e",
        "colab": {
          "base_uri": "https://localhost:8080/"
        },
        "outputId": "49232f08-677e-47da-af0a-4b0e75c075b0"
      },
      "outputs": [
        {
          "output_type": "stream",
          "name": "stdout",
          "text": [
            "Updated tuple: (1, 2, 3, 4, 5)\n"
          ]
        }
      ],
      "source": [
        "my_tuple = (1, 2, 3, 4)\n",
        "\n",
        "item_to_add = 5\n",
        "\n",
        "temp_list = list(my_tuple)\n",
        "temp_list.append(item_to_add)\n",
        "my_tuple = tuple(temp_list)\n",
        "\n",
        "print(\"Updated tuple:\", my_tuple)"
      ]
    },
    {
      "cell_type": "markdown",
      "id": "3e8fd124",
      "metadata": {
        "id": "3e8fd124"
      },
      "source": [
        "50-Write a Python program to convert a tuple to a string"
      ]
    },
    {
      "cell_type": "code",
      "execution_count": 52,
      "id": "92a71ddc",
      "metadata": {
        "id": "92a71ddc",
        "colab": {
          "base_uri": "https://localhost:8080/"
        },
        "outputId": "872799ce-eaac-4740-df77-6a3524aa35dd"
      },
      "outputs": [
        {
          "output_type": "stream",
          "name": "stdout",
          "text": [
            "Converted string: Hello\n"
          ]
        }
      ],
      "source": [
        "my_tuple = ('H', 'e', 'l', 'l', 'o')\n",
        "\n",
        "my_string = ''.join(my_tuple)\n",
        "\n",
        "print(\"Converted string:\", my_string)"
      ]
    },
    {
      "cell_type": "markdown",
      "id": "f4f64ef4",
      "metadata": {
        "id": "f4f64ef4"
      },
      "source": [
        "51-Write a Python program to convert a list to a tuple"
      ]
    },
    {
      "cell_type": "code",
      "execution_count": 53,
      "id": "210d56d3",
      "metadata": {
        "id": "210d56d3",
        "colab": {
          "base_uri": "https://localhost:8080/"
        },
        "outputId": "609e6a84-06b9-4eab-89a5-f8245167d516"
      },
      "outputs": [
        {
          "output_type": "stream",
          "name": "stdout",
          "text": [
            "Converted tuple: (1, 2, 3, 4, 5)\n"
          ]
        }
      ],
      "source": [
        "my_list = [1, 2, 3, 4, 5]\n",
        "\n",
        "my_tuple = tuple(my_list)\n",
        "\n",
        "print(\"Converted tuple:\", my_tuple)"
      ]
    },
    {
      "cell_type": "markdown",
      "id": "b1e00ef7",
      "metadata": {
        "id": "b1e00ef7"
      },
      "source": [
        "52-Write a Python program to reverse a tuple"
      ]
    },
    {
      "cell_type": "code",
      "execution_count": 54,
      "id": "f45bfdc7",
      "metadata": {
        "id": "f45bfdc7",
        "colab": {
          "base_uri": "https://localhost:8080/"
        },
        "outputId": "f4274198-a684-419d-c9b4-0d13e7d77e6b"
      },
      "outputs": [
        {
          "output_type": "stream",
          "name": "stdout",
          "text": [
            "Reversed tuple: (5, 4, 3, 2, 1)\n"
          ]
        }
      ],
      "source": [
        "my_tuple = (1, 2, 3, 4, 5)\n",
        "\n",
        "reversed_tuple = my_tuple[::-1]\n",
        "\n",
        "print(\"Reversed tuple:\", reversed_tuple)"
      ]
    },
    {
      "cell_type": "markdown",
      "id": "3cd347d1",
      "metadata": {
        "id": "3cd347d1"
      },
      "source": [
        "53-Write a Python program to replace the last value of tuples in a list.\n",
        "Sample list: [(10, 20, 40), (40, 50, 60), (70, 80, 90)]\n",
        "Expected Output: [(10, 20, 100), (40, 50, 100), (70, 80, 100)]"
      ]
    },
    {
      "cell_type": "code",
      "execution_count": 57,
      "id": "3c4a2a4c",
      "metadata": {
        "id": "3c4a2a4c",
        "colab": {
          "base_uri": "https://localhost:8080/"
        },
        "outputId": "2a06f63b-3ebf-4a1e-9f57-3b31bf4d2fe0"
      },
      "outputs": [
        {
          "output_type": "stream",
          "name": "stdout",
          "text": [
            "Modified list: [(10, 20, 100), (40, 50, 100), (70, 80, 100)]\n"
          ]
        }
      ],
      "source": [
        "sample_list = [(10, 20, 40), (40, 50, 60), (70, 80, 90)]\n",
        "\n",
        "modified_list = [(tup[:-1] + (100,)) for tup in sample_list]\n",
        "\n",
        "print(\"Modified list:\", modified_list)"
      ]
    },
    {
      "cell_type": "markdown",
      "id": "76bb7b39",
      "metadata": {
        "id": "76bb7b39"
      },
      "source": [
        "54-Write a Python program to convert a given string list to a tuple\n",
        "Original string: python 3.0\n",
        "<class 'str'>\n",
        "Convert the said string to a tuple:\n",
        "('p', 'y', 't', 'h', 'o', 'n', '3', '.', '0')"
      ]
    },
    {
      "cell_type": "code",
      "execution_count": 58,
      "id": "51951937",
      "metadata": {
        "id": "51951937",
        "colab": {
          "base_uri": "https://localhost:8080/"
        },
        "outputId": "18218b81-26e1-4a71-ce1d-97370cf137e1"
      },
      "outputs": [
        {
          "output_type": "stream",
          "name": "stdout",
          "text": [
            "Original string: python 3.0\n",
            "<class 'str'>\n",
            "Convert the said string to a tuple: ('p', 'y', 't', 'h', 'o', 'n', ' ', '3', '.', '0')\n"
          ]
        }
      ],
      "source": [
        "original_string = \"python 3.0\"\n",
        "\n",
        "string_to_tuple = tuple(original_string)\n",
        "\n",
        "print(\"Original string:\", original_string)\n",
        "print(\"<class 'str'>\")\n",
        "print(\"Convert the said string to a tuple:\", string_to_tuple)"
      ]
    },
    {
      "cell_type": "markdown",
      "id": "5a1d5d97",
      "metadata": {
        "id": "5a1d5d97"
      },
      "source": [
        "55-Write a Python program to calculate the average value of the numbers in a given tuple of tuples"
      ]
    },
    {
      "cell_type": "code",
      "execution_count": null,
      "id": "834e7992",
      "metadata": {
        "id": "834e7992"
      },
      "outputs": [],
      "source": [
        "tuple_of_tuples = ((10, 20, 30), (40, 50, 60), (70, 80, 90))\n",
        "\n",
        "all_numbers = [num for sub_tuple in tuple_of_tuples for num in sub_tuple]\n",
        "\n",
        "average = sum(all_numbers) / len(all_numbers)\n",
        "\n",
        "print(\"Average value of the numbers in the tuple of tuples:\", average)"
      ]
    },
    {
      "cell_type": "markdown",
      "id": "51edab9c",
      "metadata": {
        "id": "51edab9c"
      },
      "source": [
        "56-Write a Python program to add member(s) to a set."
      ]
    },
    {
      "cell_type": "code",
      "execution_count": null,
      "id": "2b65df79",
      "metadata": {
        "id": "2b65df79"
      },
      "outputs": [],
      "source": [
        "my_set = {1, 2, 3, 4}\n",
        "\n",
        "my_set.add(5)\n",
        "\n",
        "my_set.update([6, 7, 8])\n",
        "\n",
        "print(\"Updated set:\", my_set)"
      ]
    },
    {
      "cell_type": "markdown",
      "id": "965590cc",
      "metadata": {
        "id": "965590cc"
      },
      "source": [
        "57-Write a Python program to remove an item from a set if it is present in the set."
      ]
    },
    {
      "cell_type": "code",
      "execution_count": null,
      "id": "866bab28",
      "metadata": {
        "id": "866bab28"
      },
      "outputs": [],
      "source": [
        "my_set = {1, 2, 3, 4, 5}\n",
        "\n",
        "item_to_remove = 3\n",
        "\n",
        "if item_to_remove in my_set:\n",
        "    my_set.remove(item_to_remove)\n",
        "    print(f\"Item {item_to_remove} has been removed from the set.\")\n",
        "else:\n",
        "    print(f\"Item {item_to_remove} is not present in the set.\")\n",
        "\n",
        "print(\"Updated set:\", my_set)"
      ]
    },
    {
      "cell_type": "markdown",
      "id": "2b7cfed1",
      "metadata": {
        "id": "2b7cfed1"
      },
      "source": [
        "58-Write a Python program to create an intersection,union,difference and symmetric difference of sets"
      ]
    },
    {
      "cell_type": "code",
      "execution_count": 62,
      "id": "7f94b7fe",
      "metadata": {
        "id": "7f94b7fe",
        "colab": {
          "base_uri": "https://localhost:8080/"
        },
        "outputId": "bfbbfe2d-45f5-420e-db62-de2da49abcfa"
      },
      "outputs": [
        {
          "output_type": "stream",
          "name": "stdout",
          "text": [
            "Intersection of set1 and set2: {4, 5}\n",
            "Union of set1 and set2: {1, 2, 3, 4, 5, 6, 7, 8}\n",
            "Difference of set1 and set2: {1, 2, 3}\n",
            "Symmetric difference of set1 and set2: {1, 2, 3, 6, 7, 8}\n"
          ]
        }
      ],
      "source": [
        "set1 = {1, 2, 3, 4, 5}\n",
        "set2 = {4, 5, 6, 7, 8}\n",
        "\n",
        "intersection = set1 & set2\n",
        "\n",
        "union = set1 | set2\n",
        "\n",
        "difference = set1 - set2\n",
        "\n",
        "symmetric_difference = set1 ^ set2\n",
        "\n",
        "print(\"Intersection of set1 and set2:\", intersection)\n",
        "print(\"Union of set1 and set2:\", union)\n",
        "print(\"Difference of set1 and set2:\", difference)\n",
        "print(\"Symmetric difference of set1 and set2:\", symmetric_difference)"
      ]
    },
    {
      "cell_type": "markdown",
      "id": "b94931e2",
      "metadata": {
        "id": "b94931e2"
      },
      "source": [
        "59-Write a Python program to find the maximum and minimum values in a set"
      ]
    },
    {
      "cell_type": "code",
      "execution_count": 63,
      "id": "203f9600",
      "metadata": {
        "id": "203f9600",
        "colab": {
          "base_uri": "https://localhost:8080/"
        },
        "outputId": "597d42fb-c822-46b2-935b-11b1d265fa7a"
      },
      "outputs": [
        {
          "output_type": "stream",
          "name": "stdout",
          "text": [
            "Maximum value in the set: 50\n",
            "Minimum value in the set: 10\n"
          ]
        }
      ],
      "source": [
        "my_set = {10, 20, 30, 40, 50}\n",
        "\n",
        "max_value = max(my_set)\n",
        "min_value = min(my_set)\n",
        "\n",
        "print(\"Maximum value in the set:\", max_value)\n",
        "print(\"Minimum value in the set:\", min_value)"
      ]
    },
    {
      "cell_type": "markdown",
      "id": "255fd554",
      "metadata": {
        "id": "255fd554"
      },
      "source": [
        "60- Write a Python program that finds all pairs of elements in a list whose sum is equal to a given value."
      ]
    },
    {
      "cell_type": "code",
      "execution_count": 64,
      "id": "c2d94e1f",
      "metadata": {
        "id": "c2d94e1f",
        "colab": {
          "base_uri": "https://localhost:8080/"
        },
        "outputId": "57d16457-d062-4e8f-e0d8-027a7802c60d"
      },
      "outputs": [
        {
          "output_type": "stream",
          "name": "stdout",
          "text": [
            "Pairs whose sum is equal to 70 : [(10, 60), (20, 50), (30, 40)]\n"
          ]
        }
      ],
      "source": [
        "my_list = [10, 20, 30, 40, 50, 60]\n",
        "target_sum = 70\n",
        "\n",
        "pairs = []\n",
        "\n",
        "for i in range(len(my_list)):\n",
        "    for j in range(i+1, len(my_list)):\n",
        "        if my_list[i] + my_list[j] == target_sum:\n",
        "            pairs.append((my_list[i], my_list[j]))\n",
        "\n",
        "print(\"Pairs whose sum is equal to\", target_sum, \":\", pairs)"
      ]
    }
  ],
  "metadata": {
    "kernelspec": {
      "display_name": "Python 3 (ipykernel)",
      "language": "python",
      "name": "python3"
    },
    "language_info": {
      "codemirror_mode": {
        "name": "ipython",
        "version": 3
      },
      "file_extension": ".py",
      "mimetype": "text/x-python",
      "name": "python",
      "nbconvert_exporter": "python",
      "pygments_lexer": "ipython3",
      "version": "3.9.7"
    },
    "colab": {
      "provenance": []
    }
  },
  "nbformat": 4,
  "nbformat_minor": 5
}