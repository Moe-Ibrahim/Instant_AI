{
  "cells": [
    {
      "cell_type": "markdown",
      "id": "ff38aad7",
      "metadata": {
        "id": "ff38aad7"
      },
      "source": [
        "### 1-Write a Python program that takes two numbers as user input and performs addition on them."
      ]
    },
    {
      "cell_type": "code",
      "execution_count": null,
      "id": "91696b79",
      "metadata": {
        "id": "91696b79",
        "outputId": "2d44a725-05c8-4f82-d44f-98c2eb9168a0",
        "colab": {
          "base_uri": "https://localhost:8080/"
        }
      },
      "outputs": [
        {
          "output_type": "stream",
          "name": "stdout",
          "text": [
            "Enter the first number: 4\n",
            "Enter the second number: 5\n",
            "The addition of the two numbers is: 9.0\n"
          ]
        }
      ],
      "source": [
        "num1 = float(input(\"Enter the first number: \"))\n",
        "num2 = float(input(\"Enter the second number: \"))\n",
        "\n",
        "print(f\"The addition of the two numbers is: {num1 + num2}\")"
      ]
    },
    {
      "cell_type": "markdown",
      "id": "360854ff",
      "metadata": {
        "id": "360854ff"
      },
      "source": [
        "### 2-Write a Python program that takes an integer as input and checks if it is even or odd. Print \"Even\" if the number is divisible by 2, otherwise print \"Odd\"."
      ]
    },
    {
      "cell_type": "code",
      "execution_count": null,
      "id": "ee4c35fe",
      "metadata": {
        "ExecuteTime": {
          "end_time": "2023-07-23T21:35:24.351946Z",
          "start_time": "2023-07-23T21:35:23.287212Z"
        },
        "id": "ee4c35fe",
        "outputId": "f377155e-330e-460b-a9c0-cc46ad8da391",
        "colab": {
          "base_uri": "https://localhost:8080/"
        }
      },
      "outputs": [
        {
          "output_type": "stream",
          "name": "stdout",
          "text": [
            "Enter the number: 12\n",
            "The number 12 is even\n"
          ]
        }
      ],
      "source": [
        "num = int(input(\"Enter the number: \"))\n",
        "\n",
        "if num % 2 == 0:\n",
        "  print(f\"The number {num} is even\")\n",
        "else:\n",
        "  print(f\"The number {num} is odd\")"
      ]
    },
    {
      "cell_type": "markdown",
      "id": "6ea0354c",
      "metadata": {
        "id": "6ea0354c"
      },
      "source": [
        "### 3-Write a Python program that prints all the even numbers from 1 to 20 using a for loop"
      ]
    },
    {
      "cell_type": "code",
      "execution_count": null,
      "id": "df43b7f5",
      "metadata": {
        "ExecuteTime": {
          "end_time": "2023-07-23T21:36:51.373589Z",
          "start_time": "2023-07-23T21:36:51.365580Z"
        },
        "id": "df43b7f5",
        "outputId": "5d2cbdbe-eeed-4216-c804-9eb9f5b6ef0a",
        "colab": {
          "base_uri": "https://localhost:8080/"
        }
      },
      "outputs": [
        {
          "output_type": "stream",
          "name": "stdout",
          "text": [
            "2 is even.\n",
            "4 is even.\n",
            "6 is even.\n",
            "8 is even.\n",
            "10 is even.\n",
            "12 is even.\n",
            "14 is even.\n",
            "16 is even.\n",
            "18 is even.\n",
            "20 is even.\n"
          ]
        }
      ],
      "source": [
        "for i in range(1, 21):\n",
        "  if i % 2 == 0:\n",
        "    print(f\"{i} is even.\")\n",
        "  else:\n",
        "    continue"
      ]
    },
    {
      "cell_type": "markdown",
      "id": "2d66bab2",
      "metadata": {
        "id": "2d66bab2"
      },
      "source": [
        "### 4-Write a Python function that takes a string as input and counts the number of vowels (a, e, i, o, u) in the string. The function should return the count"
      ]
    },
    {
      "cell_type": "code",
      "execution_count": null,
      "id": "a37a84fd",
      "metadata": {
        "ExecuteTime": {
          "end_time": "2023-07-23T21:45:58.522044Z",
          "start_time": "2023-07-23T21:45:58.514370Z"
        },
        "id": "a37a84fd",
        "outputId": "2a7fe81f-b1f3-41f2-f198-085df187ecb3",
        "colab": {
          "base_uri": "https://localhost:8080/"
        }
      },
      "outputs": [
        {
          "output_type": "stream",
          "name": "stdout",
          "text": [
            "Enter sentence to count the vowels: moe\n",
            "2\n"
          ]
        }
      ],
      "source": [
        "def count_vowels(v):\n",
        "  ls = [\"a\", \"e\", \"i\", \"o\", \"u\", \"A\", \"E\", \"I\", \"O\", \"U\"]\n",
        "  sum = 0\n",
        "  for char in v:\n",
        "    if char in ls:\n",
        "      sum+=1\n",
        "  return sum\n",
        "\n",
        "user = input(\"Enter sentence to count the vowels: \")\n",
        "\n",
        "print(count_vowels(user))\n",
        "\n"
      ]
    },
    {
      "cell_type": "markdown",
      "id": "a9a0ea06",
      "metadata": {
        "id": "a9a0ea06"
      },
      "source": [
        "### 5-Write a Python program that creates a list of numbers from 1 to 10. Use a loop to iterate over the list and print each number of power 2."
      ]
    },
    {
      "cell_type": "code",
      "execution_count": null,
      "id": "6fa658cf",
      "metadata": {
        "ExecuteTime": {
          "end_time": "2023-07-23T21:48:02.328880Z",
          "start_time": "2023-07-23T21:48:02.314313Z"
        },
        "id": "6fa658cf"
      },
      "outputs": [],
      "source": [
        "ls = [1, 2, 3, 4, 5, 6, 7, 8, 9, 10]\n",
        "\n",
        "for i in ls:\n",
        "  print(f\"{i} ^ 2 = {i ** 2}\")"
      ]
    },
    {
      "cell_type": "markdown",
      "id": "430c9df9",
      "metadata": {
        "id": "430c9df9"
      },
      "source": [
        "### 6-Write a Python program that calculates the average grade for a student based on their scores in different subjects. The program should include the following steps:\n",
        "\n",
        "#### 1-Create variables to store the student's name, subject names, and corresponding scores. Initialize the variables with sample data.\n",
        "\n",
        "#### 2-Prompt the user to enter the student's name and assign it to the name variable.\n",
        "\n",
        "#### 3-Use a loop to prompt the user to enter the subject names and corresponding scores. Store the subject names in a list and the scores in another list.\n",
        "\n",
        "#### 4-After collecting the scores, calculate the average grade by summing up all the scores and dividing by the total number of subjects.\n",
        "\n",
        "#### 5-Check if the average grade is above a 70, print a congratulatory message. Otherwise, print an encouragement message."
      ]
    },
    {
      "cell_type": "code",
      "execution_count": null,
      "id": "e0254271",
      "metadata": {
        "ExecuteTime": {
          "end_time": "2023-07-15T16:16:17.066909Z",
          "start_time": "2023-07-15T16:16:07.636799Z"
        },
        "id": "e0254271"
      },
      "outputs": [],
      "source": [
        "student_name = input(\"Enter your name: \")\n",
        "ls_subject_names = []\n",
        "ls_subject_scores = []\n",
        "while True:\n",
        "  subject_name = input(\"Enter subject name: \")\n",
        "  subject_score = float(input(\"Enter subject score: \"))\n",
        "  finish = int(input(\"If u finished enter -1 and 0 to continue: \"))\n",
        "\n",
        "  ls_subject_names.append(subject_name)\n",
        "  ls_subject_scores.append(subject_score)\n",
        "\n",
        "  if finish == -1:\n",
        "    break\n",
        "\n",
        "sum = 0\n",
        "for i in ls_subject_scores:\n",
        "  sum += i\n",
        "\n",
        "average = sum / len(ls_subject_names)\n",
        "print(f\"The average score of {student_name} is : {average:.2f}\")\n",
        "\n",
        "if average > 70:\n",
        "  print(\"Congratulation you passed.\")\n",
        "else:\n",
        "  print(\"Keep trying! You can improve!\")"
      ]
    },
    {
      "cell_type": "markdown",
      "id": "ae9df360",
      "metadata": {
        "id": "ae9df360"
      },
      "source": [
        "### 7-Find Common Elements\n",
        "### Write a Python function that takes two lists as input and returns a new list containing the common elements present in both lists."
      ]
    },
    {
      "cell_type": "code",
      "execution_count": null,
      "id": "d030c3c0",
      "metadata": {
        "ExecuteTime": {
          "end_time": "2023-07-23T22:08:16.794474Z",
          "start_time": "2023-07-23T22:08:16.775639Z"
        },
        "id": "d030c3c0"
      },
      "outputs": [],
      "source": [
        "def common_list(list_1, list_2):\n",
        "  comm_ls = []\n",
        "  for i in list_1:\n",
        "    for j in list_2:\n",
        "      if i == j:\n",
        "        comm_ls.append(i)\n",
        "      else:\n",
        "        continue\n",
        "  return comm_ls\n",
        "ls_1 = input(\"Enter your first list: \").split()\n",
        "ls_2 = input(\"Enter your second list: \").split()\n",
        "\n",
        "print(ls_1)\n",
        "print(ls_2)\n",
        "print(common_list(ls_1, ls_2))"
      ]
    },
    {
      "cell_type": "markdown",
      "id": "9a2f34cb",
      "metadata": {
        "id": "9a2f34cb"
      },
      "source": [
        "### 8-Write a Python function that takes a list of numbers and an element to remove from the list."
      ]
    },
    {
      "cell_type": "code",
      "execution_count": null,
      "id": "78de9fe8",
      "metadata": {
        "ExecuteTime": {
          "end_time": "2023-07-23T22:21:36.514592Z",
          "start_time": "2023-07-23T22:21:36.505437Z"
        },
        "id": "78de9fe8"
      },
      "outputs": [],
      "source": [
        "def remove_element(i, list_1):\n",
        "  if i in list_1:\n",
        "    list_1.remove(i)\n",
        "  else:\n",
        "    print(\"This element not in the list\")\n",
        "  return list_1\n",
        "\n",
        "ls = input(\"Enter a list: \").split()\n",
        "while True:\n",
        "  element = input(\"Enter the element you want to remove (or done to stop): \")\n",
        "\n",
        "  if element.lower() == \"done\":\n",
        "    print(f\"The updated list is {ls}\")\n",
        "    break\n",
        "  else:\n",
        "    print(remove_element(element, ls))"
      ]
    },
    {
      "cell_type": "markdown",
      "id": "f1658f3b",
      "metadata": {
        "ExecuteTime": {
          "end_time": "2023-07-23T22:18:08.230185Z",
          "start_time": "2023-07-23T22:18:08.224220Z"
        },
        "id": "f1658f3b"
      },
      "source": [
        "### 9-Given 4 numbers A, B, C and D. Print the last 2 digits from their Multiplication.\n",
        "### Example :\n",
        "### the Multiplication of 4 numbers is 5 * 7 * 2 * 4 = 280 so the answer will be the last 2 digits which are 80."
      ]
    },
    {
      "cell_type": "code",
      "execution_count": null,
      "id": "e3acbe03",
      "metadata": {
        "ExecuteTime": {
          "end_time": "2023-07-23T22:26:11.183016Z",
          "start_time": "2023-07-23T22:26:03.981069Z"
        },
        "id": "e3acbe03"
      },
      "outputs": [],
      "source": [
        "A = int(input(\"Enter first number: \"))\n",
        "B = int(input(\"Enter second number: \"))\n",
        "C = int(input(\"Enter third number: \"))\n",
        "D = int(input(\"Enter fourth number: \"))\n",
        "\n",
        "multiple = A * B * C * D\n",
        "print(f\"The multiplication of the four numbers is {multiple}\")\n",
        "\n",
        "multiple_str = str(multiple)\n",
        "\n",
        "print(f\"The last 2 digits is {multiple_str[-2:]}\")\n"
      ]
    },
    {
      "cell_type": "markdown",
      "id": "d7ab15bb",
      "metadata": {
        "ExecuteTime": {
          "end_time": "2023-07-23T22:26:14.833712Z",
          "start_time": "2023-07-23T22:26:14.819130Z"
        },
        "id": "d7ab15bb"
      },
      "source": [
        "### 10- Given a number X. Determine if the number is prime or not"
      ]
    },
    {
      "cell_type": "code",
      "execution_count": null,
      "id": "59b27f0a",
      "metadata": {
        "ExecuteTime": {
          "end_time": "2023-07-23T22:35:25.933766Z",
          "start_time": "2023-07-23T22:35:24.168681Z"
        },
        "id": "59b27f0a"
      },
      "outputs": [],
      "source": [
        "num = int(input(\"Enter a number: \"))\n",
        "\n",
        "if num > 1:\n",
        "    for i in range(2, num):\n",
        "        if (num % i) == 0:\n",
        "            print(num, \"is not a prime number\")\n",
        "            break\n",
        "    else:\n",
        "        print(num, \"is a prime number\")\n",
        "else:\n",
        "    print(num, \"is not a prime number\")"
      ]
    },
    {
      "cell_type": "markdown",
      "id": "e1d1dcf9",
      "metadata": {
        "id": "e1d1dcf9"
      },
      "source": [
        "### 11- Given a number X and a list A of N numbers. Determine if the number X exists in array A or not and print its position (0-index)."
      ]
    },
    {
      "cell_type": "code",
      "execution_count": 30,
      "id": "2b002b0e",
      "metadata": {
        "ExecuteTime": {
          "end_time": "2023-07-23T22:53:41.474835Z",
          "start_time": "2023-07-23T22:53:41.458293Z"
        },
        "id": "2b002b0e",
        "colab": {
          "base_uri": "https://localhost:8080/"
        },
        "outputId": "0721c149-0207-4649-afbe-f1b2052d2b3e"
      },
      "outputs": [
        {
          "output_type": "stream",
          "name": "stdout",
          "text": [
            "Enter a number: 10\n",
            "Enter a list: 1 2 3 4 5 6 7 8 10\n",
            "The number 10 is in 8-index\n"
          ]
        }
      ],
      "source": [
        "X = int(input(\"Enter a number: \"))\n",
        "A = input(\"Enter a list: \").split()\n",
        "\n",
        "A = [int(N) for N in A]\n",
        "\n",
        "if X in A:\n",
        "  print(f\"The number {X} is in {A.index(X)}-index\")\n",
        "else:\n",
        "  print(f\"The number {X} is not in the list\")"
      ]
    },
    {
      "cell_type": "markdown",
      "id": "f2ec854b",
      "metadata": {
        "id": "f2ec854b"
      },
      "source": [
        "### 12- Given a number N and a list A of N numbers. Determine if the array is lucky or not.\n",
        "\n",
        "#### Note: the array is lucky if the frequency (number of occurrence) of the minimum element is odd."
      ]
    },
    {
      "cell_type": "code",
      "execution_count": null,
      "id": "0c4f7f4b",
      "metadata": {
        "ExecuteTime": {
          "end_time": "2023-07-23T23:02:02.490192Z",
          "start_time": "2023-07-23T23:02:02.476874Z"
        },
        "id": "0c4f7f4b"
      },
      "outputs": [],
      "source": [
        "A = input(\"Enter a list: \").split()\n",
        "\n",
        "A = [int(N) for N in A]\n",
        "\n",
        "min_element = min(A)\n",
        "\n",
        "frequency = A.count(min_element)\n",
        "\n",
        "if frequency % 2 == 1:\n",
        "    print(\"The array is lucky\")\n",
        "else:\n",
        "    print(\"The array is not lucky\")\n"
      ]
    },
    {
      "cell_type": "markdown",
      "id": "e1ce1ae5",
      "metadata": {
        "id": "e1ce1ae5"
      },
      "source": [
        "### 13-Given a number N and a list A of N numbers. Print the array after doing the following operations:\n",
        "\n",
        "#### Find minimum number in these numbers.\n",
        "#### Find maximum number in these numbers.\n",
        "##### Swap minimum number with maximum number."
      ]
    },
    {
      "cell_type": "code",
      "execution_count": 44,
      "id": "e0d6e639",
      "metadata": {
        "ExecuteTime": {
          "end_time": "2023-07-23T23:10:04.293733Z",
          "start_time": "2023-07-23T23:10:04.280256Z"
        },
        "id": "e0d6e639",
        "colab": {
          "base_uri": "https://localhost:8080/"
        },
        "outputId": "1ddfb7e6-f4ac-4b4f-926e-53d2b75b98e8"
      },
      "outputs": [
        {
          "output_type": "stream",
          "name": "stdout",
          "text": [
            "Enter elements separated by space: 1 2 3 4 5\n",
            "Array after swapping minimum and maximum elements: [5, 2, 3, 4, 1]\n"
          ]
        }
      ],
      "source": [
        "A = list(map(int, input(\"Enter elements separated by space: \").split()))\n",
        "\n",
        "min_element = min(A)\n",
        "max_element = max(A)\n",
        "\n",
        "min_index = A.index(min_element)\n",
        "max_index = A.index(max_element)\n",
        "\n",
        "A[min_index], A[max_index] = A[max_index], A[min_index]\n",
        "\n",
        "print(\"Array after swapping minimum and maximum elements:\", A)"
      ]
    },
    {
      "cell_type": "markdown",
      "id": "9eb8e9c5",
      "metadata": {
        "ExecuteTime": {
          "end_time": "2023-07-23T23:10:06.436833Z",
          "start_time": "2023-07-23T23:10:06.422086Z"
        },
        "id": "9eb8e9c5"
      },
      "source": [
        "### 14-Given a number N and an array A of N numbers. Print the lowest number and its position.\n",
        "\n",
        "### Note: if there are more than one answer print first one's position."
      ]
    },
    {
      "cell_type": "code",
      "execution_count": 45,
      "id": "018e01c8",
      "metadata": {
        "ExecuteTime": {
          "end_time": "2023-07-23T23:20:38.498527Z",
          "start_time": "2023-07-23T23:20:38.490451Z"
        },
        "id": "018e01c8",
        "colab": {
          "base_uri": "https://localhost:8080/"
        },
        "outputId": "50af532a-50cb-4d4b-a870-4732922dadc4"
      },
      "outputs": [
        {
          "output_type": "stream",
          "name": "stdout",
          "text": [
            "Enter elements separated by space: 1 2 3 1 1\n",
            "The lowest number is 1 and its position is 0\n"
          ]
        }
      ],
      "source": [
        "A = list(map(int, input(\"Enter elements separated by space: \").split()))\n",
        "\n",
        "min_element = min(A)\n",
        "min_index = A.index(min_element)\n",
        "\n",
        "print(f\"The lowest number is {min_element} and its position is {min_index}\")\n"
      ]
    },
    {
      "cell_type": "markdown",
      "id": "f35d3427",
      "metadata": {
        "ExecuteTime": {
          "end_time": "2023-07-23T23:20:55.880128Z",
          "start_time": "2023-07-23T23:20:55.861804Z"
        },
        "id": "f35d3427"
      },
      "source": [
        "### 15-Given a number N and an array A of N numbers. Print the numbers after sorting them"
      ]
    },
    {
      "cell_type": "code",
      "execution_count": 50,
      "id": "a6e0edd4",
      "metadata": {
        "ExecuteTime": {
          "end_time": "2023-07-23T23:46:13.340484Z",
          "start_time": "2023-07-23T23:46:13.324468Z"
        },
        "id": "a6e0edd4",
        "colab": {
          "base_uri": "https://localhost:8080/"
        },
        "outputId": "07c6c6c1-4d4b-4504-c687-60233fa12883"
      },
      "outputs": [
        {
          "output_type": "stream",
          "name": "stdout",
          "text": [
            "Enter elements separated by space: 10 12 1399 90 1 2 8 7\n",
            "The sorted array is: [1, 2, 7, 8, 10, 12, 90, 1399]\n"
          ]
        }
      ],
      "source": [
        "A = list(map(int, input(\"Enter elements separated by space: \").split()))\n",
        "\n",
        "A.sort()\n",
        "\n",
        "print(\"The sorted array is:\", A)"
      ]
    },
    {
      "cell_type": "markdown",
      "id": "a172f354",
      "metadata": {
        "ExecuteTime": {
          "end_time": "2023-07-23T23:46:15.127981Z",
          "start_time": "2023-07-23T23:46:15.108766Z"
        },
        "id": "a172f354"
      },
      "source": [
        "### 16- Write a Python program to remove spaces from a given string"
      ]
    },
    {
      "cell_type": "code",
      "execution_count": 52,
      "id": "36d3569d",
      "metadata": {
        "ExecuteTime": {
          "end_time": "2023-07-23T23:50:06.443640Z",
          "start_time": "2023-07-23T23:50:01.592919Z"
        },
        "id": "36d3569d",
        "colab": {
          "base_uri": "https://localhost:8080/"
        },
        "outputId": "c8e75efd-8fb3-4735-f13f-8a506405768c"
      },
      "outputs": [
        {
          "output_type": "stream",
          "name": "stdout",
          "text": [
            "Enter a string: Mohame Ibra Abd\n",
            "String after removing spaces: MohameIbraAbd\n"
          ]
        }
      ],
      "source": [
        "string = input(\"Enter a string: \")\n",
        "\n",
        "result = string.replace(\" \", \"\")\n",
        "\n",
        "print(\"String after removing spaces:\", result)\n"
      ]
    },
    {
      "cell_type": "markdown",
      "id": "a5470d49",
      "metadata": {
        "id": "a5470d49"
      },
      "source": [
        "### 17-write a Python program to swap first and last element of any list."
      ]
    },
    {
      "cell_type": "code",
      "execution_count": 56,
      "id": "9d73887b",
      "metadata": {
        "ExecuteTime": {
          "end_time": "2023-07-23T23:50:59.283429Z",
          "start_time": "2023-07-23T23:50:59.272096Z"
        },
        "id": "9d73887b",
        "colab": {
          "base_uri": "https://localhost:8080/"
        },
        "outputId": "b4eb3ba7-fe11-4bbf-e111-44883be2e044"
      },
      "outputs": [
        {
          "output_type": "stream",
          "name": "stdout",
          "text": [
            "Enter elements of the list separated by space: 1 2 3 4\n",
            "List after swapping first and last elements: [4, 2, 3, 1]\n"
          ]
        }
      ],
      "source": [
        "A = list(map(int, input(\"Enter elements of the list separated by space: \").split()))\n",
        "\n",
        "\n",
        "A[0], A[-1] = A[-1], A[0]\n",
        "\n",
        "print(\"List after swapping first and last elements:\", A)\n"
      ]
    },
    {
      "cell_type": "markdown",
      "source": [
        "# **Write a Python Program to Find HCF.**\n",
        "## Highest Common Factor(HCF): HCF, or Highest Common Factor, is the largest positive integer that divides two or more numbers without leaving a remainder. Formula: For two numbers a and b, the HCF can be found using the formula:\n",
        "\n",
        "** HCF(𝑎, 𝑏) = GCD(𝑎, 𝑏)**\n",
        "For more than two numbers, you can find the HCF by taking the GCD of pairs of numbers at a time until you reach the last pair.\n",
        "\n",
        "# **Note: GCD stands for Greatest Common Divisor, use function.**\n"
      ],
      "metadata": {
        "id": "iS6JiE4uPbyH"
      },
      "id": "iS6JiE4uPbyH"
    },
    {
      "cell_type": "code",
      "source": [
        "numbers = list(map(int, input(\"Enter numbers separated by space: \").split()))\n",
        "\n",
        "a = numbers[0]\n",
        "for b in numbers[1:]:\n",
        "    while b:\n",
        "        a, b = b, a % b\n",
        "\n",
        "print(\"The HCF of the numbers is:\", a)\n"
      ],
      "metadata": {
        "id": "9qUfYf0wPnvt",
        "colab": {
          "base_uri": "https://localhost:8080/"
        },
        "outputId": "f6bfe061-adff-4f9f-b304-9dcd254aa468"
      },
      "id": "9qUfYf0wPnvt",
      "execution_count": 59,
      "outputs": [
        {
          "output_type": "stream",
          "name": "stdout",
          "text": [
            "Enter numbers separated by space: 40 20 60 88\n",
            "The HCF of the numbers is: 4\n"
          ]
        }
      ]
    }
  ],
  "metadata": {
    "kernelspec": {
      "display_name": "Python 3 (ipykernel)",
      "language": "python",
      "name": "python3"
    },
    "language_info": {
      "codemirror_mode": {
        "name": "ipython",
        "version": 3
      },
      "file_extension": ".py",
      "mimetype": "text/x-python",
      "name": "python",
      "nbconvert_exporter": "python",
      "pygments_lexer": "ipython3",
      "version": "3.9.12"
    },
    "colab": {
      "provenance": []
    }
  },
  "nbformat": 4,
  "nbformat_minor": 5
}